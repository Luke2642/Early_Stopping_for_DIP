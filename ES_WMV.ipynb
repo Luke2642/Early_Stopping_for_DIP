{
  "nbformat": 4,
  "nbformat_minor": 0,
  "metadata": {
    "colab": {
      "name": "ES-WMV.ipynb",
      "provenance": [],
      "collapsed_sections": []
    },
    "kernelspec": {
      "name": "python3",
      "display_name": "Python 3"
    },
    "language_info": {
      "name": "python"
    },
    "accelerator": "GPU"
  },
  "cells": [
    {
      "cell_type": "code",
      "metadata": {
        "colab": {
          "base_uri": "https://localhost:8080/"
        },
        "id": "IVFVJJvNeHPH",
        "outputId": "2040d6a1-7b24-469c-ac96-8f49918b5b3e"
      },
      "source": [
        "#connect to Google Drive\n",
        "from google.colab import drive\n",
        "drive.mount('/content/drive')"
      ],
      "execution_count": 1,
      "outputs": [
        {
          "output_type": "stream",
          "name": "stdout",
          "text": [
            "Mounted at /content/drive\n"
          ]
        }
      ]
    },
    {
      "cell_type": "code",
      "metadata": {
        "id": "LGKu75XcfKnK"
      },
      "source": [
        "import numpy as np\n",
        "import skimage.metrics\n",
        "import torch\n",
        "import torch.optim\n",
        "import os\n",
        "\n",
        "import sys  \n",
        "sys.path.insert(0, '/content/drive/MyDrive/EarlyStopping_for_DIP/')\n",
        "\n",
        "from third_party.models import *\n",
        "from third_party.utils.denoising_utils import *\n",
        "import matplotlib.pyplot as plt\n",
        "import seaborn as sns\n",
        "sns.set_style(\"darkgrid\", {\"axes.facecolor\": \".9\"})\n",
        "os.environ['CUDA_VISIBLE_DEVICES'] ='0'"
      ],
      "execution_count": 27,
      "outputs": []
    },
    {
      "cell_type": "code",
      "metadata": {
        "id": "EhtNd4JSfpnu"
      },
      "source": [
        "torch.backends.cudnn.enabled = True\n",
        "torch.backends.cudnn.benchmark = True\n",
        "dtype = torch.cuda.FloatTensor\n",
        "buffer_size = 100\n",
        "patience = 1000\n",
        "width = 128\n",
        "lr = 0.01\n",
        "alg = 'adam'\n",
        "num_iter = 5000\n",
        "l1 = False"
      ],
      "execution_count": 5,
      "outputs": []
    },
    {
      "cell_type": "code",
      "metadata": {
        "id": "CA9Tw-HPgQtF"
      },
      "source": [
        "class EarlyStop():\n",
        "    def __init__(self, size, patience):\n",
        "        self.patience = patience\n",
        "        self.wait_count = 0\n",
        "        self.best_score = float('inf')\n",
        "        self.best_epoch = 0\n",
        "        self.img_collection = []\n",
        "        self.stop = False\n",
        "        self.size = size\n",
        "\n",
        "    def check_stop(self, current, cur_epoch):\n",
        "      #stop when variance doesn't decrease for consecutive P(patience) times\n",
        "        if current < self.best_score:\n",
        "            self.best_score = current\n",
        "            self.best_epoch = cur_epoch\n",
        "            self.wait_count = 0\n",
        "            should_stop = False\n",
        "        else:\n",
        "            self.wait_count += 1\n",
        "            should_stop = self.wait_count >= self.patience\n",
        "        return should_stop\n",
        "\n",
        "    def update_img_collection(self, cur_img):\n",
        "        self.img_collection.append(cur_img)\n",
        "        if len(self.img_collection) > self.size:\n",
        "            self.img_collection.pop(0)\n",
        "\n",
        "    def get_img_collection(self):\n",
        "        return self.img_collection\n",
        "\n",
        "def myMetric(x1, x2):\n",
        "    return ((x1 - x2) ** 2).sum() / x1.size\n",
        "    # return (np.abs(x1 - x2)).sum() / x1.size"
      ],
      "execution_count": 6,
      "outputs": []
    },
    {
      "cell_type": "code",
      "metadata": {
        "colab": {
          "base_uri": "https://localhost:8080/",
          "height": 356
        },
        "id": "BPjYluSch3l_",
        "outputId": "de452ae7-4c48-4274-fd48-cffaab829141"
      },
      "source": [
        "#load image\n",
        "#clean_img = '/content/drive/MyDrive/EarlyStopping_for_DIP/test.jpg'\n",
        "#corrupted_img = '/content/drive/MyDrive/EarlyStopping_for_DIP/noise.png'\n",
        "clean_img = './Dataset/Gaussian_Noise/Clean/F16_clean.npz'\n",
        "corrupted_img = './Dataset/Gaussian_Noise/Gaussian_Noise_4/F16_Gaussian_Noise_4.npz'\n",
        "raw_img_np = np.load(clean_img)['arr_0'] / 255.0\n",
        "raw_img_noisy_np = np.load(corrupted_img)['arr_0'] / 255.0\n",
        "\n",
        "fig, (ax1, ax2) = plt.subplots(1, 2)\n",
        "fig.suptitle('Clean and Noisy Image')\n",
        "ax1.imshow(raw_img_np)\n",
        "ax2.imshow(raw_img_noisy_np)\n",
        "ax1.axis('off')\n",
        "ax2.axis('off')\n",
        "plt.show()\n",
        "plt.close()"
      ],
      "execution_count": 15,
      "outputs": [
        {
          "output_type": "error",
          "ename": "FileNotFoundError",
          "evalue": "ignored",
          "traceback": [
            "\u001b[0;31m---------------------------------------------------------------------------\u001b[0m",
            "\u001b[0;31mFileNotFoundError\u001b[0m                         Traceback (most recent call last)",
            "\u001b[0;32m<ipython-input-15-c1a580a9685b>\u001b[0m in \u001b[0;36m<module>\u001b[0;34m\u001b[0m\n\u001b[1;32m      4\u001b[0m \u001b[0mclean_img\u001b[0m \u001b[0;34m=\u001b[0m \u001b[0;34m'./Dataset/Gaussian_Noise/Clean/F16_clean.npz'\u001b[0m\u001b[0;34m\u001b[0m\u001b[0;34m\u001b[0m\u001b[0m\n\u001b[1;32m      5\u001b[0m \u001b[0mcorrupted_img\u001b[0m \u001b[0;34m=\u001b[0m \u001b[0;34m'./Dataset/Gaussian_Noise/Gaussian_Noise_4/F16_Gaussian_Noise_4.npz'\u001b[0m\u001b[0;34m\u001b[0m\u001b[0;34m\u001b[0m\u001b[0m\n\u001b[0;32m----> 6\u001b[0;31m \u001b[0mraw_img_np\u001b[0m \u001b[0;34m=\u001b[0m \u001b[0mnp\u001b[0m\u001b[0;34m.\u001b[0m\u001b[0mload\u001b[0m\u001b[0;34m(\u001b[0m\u001b[0mclean_img\u001b[0m\u001b[0;34m)\u001b[0m\u001b[0;34m[\u001b[0m\u001b[0;34m'arr_0'\u001b[0m\u001b[0;34m]\u001b[0m \u001b[0;34m/\u001b[0m \u001b[0;36m255.0\u001b[0m\u001b[0;34m\u001b[0m\u001b[0;34m\u001b[0m\u001b[0m\n\u001b[0m\u001b[1;32m      7\u001b[0m \u001b[0mraw_img_noisy_np\u001b[0m \u001b[0;34m=\u001b[0m \u001b[0mnp\u001b[0m\u001b[0;34m.\u001b[0m\u001b[0mload\u001b[0m\u001b[0;34m(\u001b[0m\u001b[0mcorrupted_img\u001b[0m\u001b[0;34m)\u001b[0m\u001b[0;34m[\u001b[0m\u001b[0;34m'arr_0'\u001b[0m\u001b[0;34m]\u001b[0m \u001b[0;34m/\u001b[0m \u001b[0;36m255.0\u001b[0m\u001b[0;34m\u001b[0m\u001b[0;34m\u001b[0m\u001b[0m\n\u001b[1;32m      8\u001b[0m \u001b[0;34m\u001b[0m\u001b[0m\n",
            "\u001b[0;32m/usr/local/lib/python3.7/dist-packages/numpy/lib/npyio.py\u001b[0m in \u001b[0;36mload\u001b[0;34m(file, mmap_mode, allow_pickle, fix_imports, encoding)\u001b[0m\n\u001b[1;32m    415\u001b[0m             \u001b[0mown_fid\u001b[0m \u001b[0;34m=\u001b[0m \u001b[0;32mFalse\u001b[0m\u001b[0;34m\u001b[0m\u001b[0;34m\u001b[0m\u001b[0m\n\u001b[1;32m    416\u001b[0m         \u001b[0;32melse\u001b[0m\u001b[0;34m:\u001b[0m\u001b[0;34m\u001b[0m\u001b[0;34m\u001b[0m\u001b[0m\n\u001b[0;32m--> 417\u001b[0;31m             \u001b[0mfid\u001b[0m \u001b[0;34m=\u001b[0m \u001b[0mstack\u001b[0m\u001b[0;34m.\u001b[0m\u001b[0menter_context\u001b[0m\u001b[0;34m(\u001b[0m\u001b[0mopen\u001b[0m\u001b[0;34m(\u001b[0m\u001b[0mos_fspath\u001b[0m\u001b[0;34m(\u001b[0m\u001b[0mfile\u001b[0m\u001b[0;34m)\u001b[0m\u001b[0;34m,\u001b[0m \u001b[0;34m\"rb\"\u001b[0m\u001b[0;34m)\u001b[0m\u001b[0;34m)\u001b[0m\u001b[0;34m\u001b[0m\u001b[0;34m\u001b[0m\u001b[0m\n\u001b[0m\u001b[1;32m    418\u001b[0m             \u001b[0mown_fid\u001b[0m \u001b[0;34m=\u001b[0m \u001b[0;32mTrue\u001b[0m\u001b[0;34m\u001b[0m\u001b[0;34m\u001b[0m\u001b[0m\n\u001b[1;32m    419\u001b[0m \u001b[0;34m\u001b[0m\u001b[0m\n",
            "\u001b[0;31mFileNotFoundError\u001b[0m: [Errno 2] No such file or directory: './Dataset/Gaussian_Noise/Clean/F16_clean.npz'"
          ]
        }
      ]
    },
    {
      "cell_type": "code",
      "metadata": {
        "id": "i47M13xlhNB6",
        "outputId": "227a45c6-1979-4a8e-fe1a-20a2ac35da3e",
        "colab": {
          "base_uri": "https://localhost:8080/",
          "height": 235
        }
      },
      "source": [
        "img_np = np.transpose(raw_img_np,(2,0,1))\n",
        "img_noisy_np = np.transpose(raw_img_noisy_np,(2,0,1))\n",
        "img_noisy_torch = np_to_torch(img_noisy_np).type(dtype)\n",
        "# Network (exactly the same as the denoising DIP network, except with tunable width)\n",
        "\n",
        "input_depth = 32 \n",
        "n_channels = 3\n",
        "    \n",
        "skip_n33d = width \n",
        "skip_n33u = width \n",
        "skip_n11 = 4\n",
        "num_scales = 5\n",
        "\n",
        "net = skip(input_depth, n_channels, num_channels_down = [skip_n33d]*num_scales,\n",
        "                                    num_channels_up =   [skip_n33u]*num_scales,\n",
        "                                    num_channels_skip = [skip_n11]*num_scales, \n",
        "                                    upsample_mode='bilinear', downsample_mode='stride',\n",
        "                                    need_sigmoid=True, need_bias=True, pad='reflection', act_fun='LeakyReLU').type(dtype) \n",
        "    \n",
        "net_input = get_noise(input_depth, 'noise', (img_np.shape[1], img_np.shape[2])).type(dtype).detach()\n",
        "\n",
        "# Loss\n",
        "\n",
        "if l1:\n",
        "    criterion = torch.nn.L1Loss().type(dtype)\n",
        "else:\n",
        "    criterion = torch.nn.MSELoss().type(dtype)\n",
        "\n",
        "# Optimizer\n",
        "\n",
        "p = get_params('net', net, net_input)  # network parameters to be optimized\n",
        "\n",
        "if alg == 'adam':\n",
        "    optimizer = torch.optim.Adam(p, lr=lr)\n",
        "elif alg == 'sgd':\n",
        "    optimizer = torch.optim.SGD(p, lr=lr)\n",
        "else:\n",
        "    assert False  \n",
        "\n",
        "# Optimize\n",
        "\n",
        "reg_noise_std = 1./30. \n",
        "show_every = 1\n",
        "loss_history = []\n",
        "psnr_history = []\n",
        "ssim_history = []\n",
        "variance_history = []\n",
        "x_axis = []\n",
        "earlystop = EarlyStop(size=buffer_size,patience=patience)\n",
        "def closure(iterator):\n",
        "    #DIP\n",
        "    net_input_perturbed = net_input + torch.zeros_like(net_input).normal_(std=reg_noise_std)\n",
        "    r_img_torch = net(net_input_perturbed)\n",
        "    total_loss = criterion(r_img_torch, img_noisy_torch)\n",
        "    total_loss.backward()\n",
        "    loss_history.append(total_loss.item())\n",
        "    if iterator % show_every == 0:\n",
        "        # evaluate recovered image (PSNR, SSIM)\n",
        "        r_img_np = torch_to_np(r_img_torch)\n",
        "        psnr = skimage.metrics.peak_signal_noise_ratio(img_np, r_img_np)\n",
        "        temp_img_np = np.transpose(img_np,(1,2,0))\n",
        "        temp_r_img_np = np.transpose(r_img_np,(1,2,0))\n",
        "        ssim = skimage.metrics.structural_similarity(temp_img_np, temp_r_img_np, multichannel=True)\n",
        "        psnr_history.append(psnr)\n",
        "        ssim_history.append(ssim)\n",
        "\n",
        "        #variance hisotry\n",
        "        r_img_np = r_img_np.reshape(-1)\n",
        "        earlystop.update_img_collection(r_img_np)\n",
        "        img_collection = earlystop.get_img_collection()\n",
        "        if len(img_collection) == buffer_size:\n",
        "            ave_img = np.mean(img_collection,axis = 0)\n",
        "            variance = []\n",
        "            for tmp in img_collection:\n",
        "                variance.append(myMetric(ave_img, tmp))\n",
        "            cur_var = np.mean(variance)\n",
        "            cur_epoch = iterator\n",
        "            variance_history.append(cur_var)\n",
        "            x_axis.append(cur_epoch)\n",
        "            if earlystop.stop == False:\n",
        "                earlystop.stop = earlystop.check_stop(cur_var, cur_epoch)\n",
        "    return total_loss"
      ],
      "execution_count": 13,
      "outputs": [
        {
          "output_type": "error",
          "ename": "NameError",
          "evalue": "ignored",
          "traceback": [
            "\u001b[0;31m---------------------------------------------------------------------------\u001b[0m",
            "\u001b[0;31mNameError\u001b[0m                                 Traceback (most recent call last)",
            "\u001b[0;32m<ipython-input-13-783b62b5549e>\u001b[0m in \u001b[0;36m<module>\u001b[0;34m\u001b[0m\n\u001b[0;32m----> 1\u001b[0;31m \u001b[0mimg_np\u001b[0m \u001b[0;34m=\u001b[0m \u001b[0mnp\u001b[0m\u001b[0;34m.\u001b[0m\u001b[0mtranspose\u001b[0m\u001b[0;34m(\u001b[0m\u001b[0mraw_img_np\u001b[0m\u001b[0;34m,\u001b[0m\u001b[0;34m(\u001b[0m\u001b[0;36m2\u001b[0m\u001b[0;34m,\u001b[0m\u001b[0;36m0\u001b[0m\u001b[0;34m,\u001b[0m\u001b[0;36m1\u001b[0m\u001b[0;34m)\u001b[0m\u001b[0;34m)\u001b[0m\u001b[0;34m\u001b[0m\u001b[0;34m\u001b[0m\u001b[0m\n\u001b[0m\u001b[1;32m      2\u001b[0m \u001b[0mimg_noisy_np\u001b[0m \u001b[0;34m=\u001b[0m \u001b[0mnp\u001b[0m\u001b[0;34m.\u001b[0m\u001b[0mtranspose\u001b[0m\u001b[0;34m(\u001b[0m\u001b[0mraw_img_noisy_np\u001b[0m\u001b[0;34m,\u001b[0m\u001b[0;34m(\u001b[0m\u001b[0;36m2\u001b[0m\u001b[0;34m,\u001b[0m\u001b[0;36m0\u001b[0m\u001b[0;34m,\u001b[0m\u001b[0;36m1\u001b[0m\u001b[0;34m)\u001b[0m\u001b[0;34m)\u001b[0m\u001b[0;34m\u001b[0m\u001b[0;34m\u001b[0m\u001b[0m\n\u001b[1;32m      3\u001b[0m \u001b[0mimg_noisy_torch\u001b[0m \u001b[0;34m=\u001b[0m \u001b[0mnp_to_torch\u001b[0m\u001b[0;34m(\u001b[0m\u001b[0mimg_noisy_np\u001b[0m\u001b[0;34m)\u001b[0m\u001b[0;34m.\u001b[0m\u001b[0mtype\u001b[0m\u001b[0;34m(\u001b[0m\u001b[0mdtype\u001b[0m\u001b[0;34m)\u001b[0m\u001b[0;34m\u001b[0m\u001b[0;34m\u001b[0m\u001b[0m\n\u001b[1;32m      4\u001b[0m \u001b[0;31m# Network (exactly the same as the denoising DIP network, except with tunable width)\u001b[0m\u001b[0;34m\u001b[0m\u001b[0;34m\u001b[0m\u001b[0;34m\u001b[0m\u001b[0m\n\u001b[1;32m      5\u001b[0m \u001b[0;34m\u001b[0m\u001b[0m\n",
            "\u001b[0;31mNameError\u001b[0m: name 'raw_img_np' is not defined"
          ]
        }
      ]
    },
    {
      "cell_type": "code",
      "metadata": {
        "colab": {
          "base_uri": "https://localhost:8080/"
        },
        "id": "S6RMpvXOpcq6",
        "outputId": "0b705ff2-bc3b-4d1f-ef53-c6cc03ddbc11"
      },
      "source": [
        "for iterator in range(num_iter):\n",
        "    optimizer.zero_grad()\n",
        "    closure(iterator)\n",
        "    optimizer.step()"
      ],
      "execution_count": null,
      "outputs": [
        {
          "output_type": "stream",
          "name": "stderr",
          "text": [
            "/usr/local/lib/python3.7/dist-packages/torch/nn/functional.py:3635: UserWarning: Default upsampling behavior when mode=bilinear is changed to align_corners=False since 0.4.0. Please specify align_corners=True if the old behavior is desired. See the documentation of nn.Upsample for details.\n",
            "  \"See the documentation of nn.Upsample for details.\".format(mode)\n",
            "/usr/local/lib/python3.7/dist-packages/ipykernel_launcher.py:60: UserWarning: Inputs have mismatched dtype.  Setting data_range based on im_true.\n",
            "/usr/local/lib/python3.7/dist-packages/skimage/metrics/_structural_similarity.py:108: UserWarning: Inputs have mismatched dtype.  Setting data_range based on im1.dtype.\n",
            "  im2[..., ch], **args)\n"
          ]
        }
      ]
    },
    {
      "cell_type": "code",
      "metadata": {
        "colab": {
          "base_uri": "https://localhost:8080/",
          "height": 311
        },
        "id": "qH7rZrUMjIHp",
        "outputId": "1edc501e-3b13-4e1f-f229-be5224973c51"
      },
      "source": [
        "#show PSNR and variance history and detection\n",
        "fig, ax1 = plt.subplots()\n",
        "\n",
        "color = 'tab:red'\n",
        "ax1.set_xlabel('Epoch')\n",
        "ax1.set_ylabel('PSNR', color=color)\n",
        "ax1.plot(psnr_history, color=color)\n",
        "ax1.tick_params(axis='y', labelcolor=color)\n",
        "\n",
        "ax2 = ax1.twinx()\n",
        "\n",
        "color = 'tab:blue'\n",
        "ax2.set_ylabel('Variance', color=color)\n",
        "ax2.plot(x_axis, variance_history, color=color)\n",
        "ax2.tick_params(axis='y', labelcolor=color)\n",
        "fig.tight_layout()\n",
        "plt.title('ES-WMV')\n",
        "plt.axvline(x=earlystop.best_epoch, label='detection',color='y')\n",
        "plt.legend()\n",
        "plt.show()"
      ],
      "execution_count": null,
      "outputs": [
        {
          "output_type": "display_data",
          "data": {
            "image/png": "[encoded data removed]",
            "text/plain": [
              "<Figure size 432x288 with 2 Axes>"
            ]
          },
          "metadata": {}
        }
      ]
    },
    {
      "cell_type": "code",
      "metadata": {
        "id": "FX2w_66WlFGH"
      },
      "source": [],
      "execution_count": null,
      "outputs": []
    }
  ]
}